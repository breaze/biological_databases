{
 "cells": [
  {
   "cell_type": "code",
   "execution_count": 1,
   "id": "1c2f6694",
   "metadata": {},
   "outputs": [],
   "source": [
    "import Bio\n",
    "from Bio import SeqIO\n",
    "from Bio.Seq import Seq\n",
    "from Bio.SeqRecord import SeqRecord\n",
    "import pandas as pd\n",
    "import json"
   ]
  },
  {
   "cell_type": "code",
   "execution_count": 2,
   "id": "fce640b0",
   "metadata": {},
   "outputs": [],
   "source": [
    "proteinas_anticancerigenas = pd.read_csv('./anti-cancer.tsv', sep='\\t')\n",
    "peptidos = []\n",
    "#Gneracion de secuencias\n",
    "for i in range(len(proteinas_anticancerigenas)):\n",
    "    desc = \"{0}|{1}|{2}|{3}|{4}|{5}\".format(\n",
    "                                            proteinas_anticancerigenas.iloc[i][\"Entry Name\"],\n",
    "                                             proteinas_anticancerigenas.iloc[i][\"Reviewed\"],\n",
    "                                             proteinas_anticancerigenas.iloc[i][\"Organism\"],\n",
    "                                             proteinas_anticancerigenas.iloc[i][\"Length\"],\n",
    "                                             proteinas_anticancerigenas.iloc[i][\"EC number\"],\n",
    "                                             proteinas_anticancerigenas.iloc[i][\"PubMed ID\"]\n",
    "                                            )\n",
    "    temp = SeqRecord(\n",
    "        Seq(proteinas_anticancerigenas.iloc[i][\"Sequence\"]),\n",
    "        id = proteinas_anticancerigenas.iloc[i][\"Entry\"],\n",
    "        description=desc\n",
    "    )\n",
    "    peptidos.append(temp)\n",
    "#Generacion de archivo fasta con columnas indicadas\n",
    "for record in peptidos:\n",
    "    with open('anti-cancer.fasta', 'a') as handle:\n",
    "        SeqIO.write(record, handle, \"fasta\")\n"
   ]
  },
  {
   "cell_type": "code",
   "execution_count": 3,
   "id": "b46fb002",
   "metadata": {},
   "outputs": [],
   "source": [
    "#Generacion de archivo fasta con peptidos menores o iguales a 50 aminoacidos\n",
    "for record in peptidos:\n",
    "    if len(record) <=50:\n",
    "        with open('anti-cancer-peptidos-menores-50.fasta', 'a') as handle:\n",
    "            SeqIO.write(record, handle, \"fasta\")"
   ]
  },
  {
   "cell_type": "code",
   "execution_count": 4,
   "id": "66574d84",
   "metadata": {},
   "outputs": [],
   "source": [
    "json_peptidos = proteinas_anticancerigenas.to_json(orient=\"records\")\n",
    "with open(\"anti-cancer.json\", \"w\") as outfile:\n",
    "    outfile.write(json_peptidos)"
   ]
  }
 ],
 "metadata": {
  "kernelspec": {
   "display_name": "Python 3 (ipykernel)",
   "language": "python",
   "name": "python3"
  },
  "language_info": {
   "codemirror_mode": {
    "name": "ipython",
    "version": 3
   },
   "file_extension": ".py",
   "mimetype": "text/x-python",
   "name": "python",
   "nbconvert_exporter": "python",
   "pygments_lexer": "ipython3",
   "version": "3.9.5"
  }
 },
 "nbformat": 4,
 "nbformat_minor": 5
}
